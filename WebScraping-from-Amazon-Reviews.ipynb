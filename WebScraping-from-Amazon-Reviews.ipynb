{
 "cells": [
  {
   "cell_type": "code",
   "execution_count": 27,
   "id": "e35ff279",
   "metadata": {},
   "outputs": [],
   "source": [
    "import requests\n",
    "from bs4 import BeautifulSoup\n",
    "import pandas as pd\n",
    "\n",
    "#url = 'https://www.amazon.in/Sony-WF-1000XM3-Industry-Canceling-Wireless/product-reviews/B07T81554H/ref=cm_cr_dp_d_show_all_btm?ie=UTF8&reviewerType=all_reviews'\n",
    "url_1=\"https://www.amazon.in/realme-TFT-LCD-Touchscreen-Monitoring-Resistance/product-reviews/B08MB8YL5X/ref=cm_cr_dp_d_show_all_btm?ie=UTF8&reviewerType=all_reviews\"\n",
    "r = requests.get(url_1)\n",
    "soup = BeautifulSoup(r.text, 'html.parser')\n",
    "reviews = soup.find_all('div', {'data-hook': 'review'})"
   ]
  },
  {
   "cell_type": "code",
   "execution_count": 28,
   "id": "fec23895",
   "metadata": {},
   "outputs": [
    {
     "data": {
      "text/plain": [
       "[]"
      ]
     },
     "execution_count": 28,
     "metadata": {},
     "output_type": "execute_result"
    }
   ],
   "source": [
    "reviews"
   ]
  },
  {
   "cell_type": "code",
   "execution_count": 29,
   "id": "8d0d1713",
   "metadata": {},
   "outputs": [],
   "source": [
    "data = []\n",
    "\n",
    "# For every item in review, scrape the following and store as a list called review\n",
    "for item in reviews:\n",
    "    review = {\n",
    "    'product': soup.title.text.replace('Amazon.in:Customer reviews: ', '').strip(), \n",
    "    'title': item.find('a', {'data-hook': 'review-title'}).text.strip(),\n",
    "    'date': item.find('span', {'data-hook': 'review-date'}).text.strip(),\n",
    "    'rating': float(item.find('i', {'data-hook': 'review-star-rating'}).text.replace('out of 5 stars', '').strip()),\n",
    "    'text': item.find('span', {'data-hook': 'review-body'}).text.strip(),\n",
    "    }\n",
    "    data.append(review)  "
   ]
  },
  {
   "cell_type": "code",
   "execution_count": 30,
   "id": "100844cf",
   "metadata": {},
   "outputs": [],
   "source": [
    "def get_soup(url_1):\n",
    "    r = requests.get(url_1)\n",
    "    soup = BeautifulSoup(r.text, 'html.parser')\n",
    "    return soup"
   ]
  },
  {
   "cell_type": "code",
   "execution_count": 41,
   "id": "0631fe3b",
   "metadata": {},
   "outputs": [],
   "source": [
    "reviewlist = []\n",
    "\n",
    "# Function 2: look for web-tags in our soup, then append our data to reviewList\n",
    "def get_reviews(soup):\n",
    "    reviews = soup.find_all('div', {'data-hook': 'review'})\n",
    "    try:\n",
    "        for item in reviews:\n",
    "            review = {\n",
    "            #'product': soup.title.text.replace('Amazon.ca:Customer reviews: ', '').strip(), \n",
    "            'date': item.find('span', {'data-hook': 'review-date'}).text.strip(),\n",
    "            'title': item.find('a', {'data-hook': 'review-title'}).text.strip(),\n",
    "            'rating':  float(item.find('i', {'data-hook': 'review-star-rating'}).text.replace('out of 5 stars', '').strip()),\n",
    "            'body': item.find('span', {'data-hook': 'review-body'}).text.strip(),\n",
    "            }\n",
    "            reviewlist.append(review)\n",
    "    except:\n",
    "        pass"
   ]
  },
  {
   "cell_type": "code",
   "execution_count": 45,
   "id": "5948e10f",
   "metadata": {},
   "outputs": [],
   "source": [
    "for x in range(1,1500):\n",
    "    soup = get_soup(f'https://www.amazon.in/realme-TFT-LCD-Touchscreen-Monitoring-Resistance/product-reviews/B08MB8YL5X/ref=cm_cr_dp_d_show_all_btm?ie=UTF8&reviewerType=all_reviews={x}')\n",
    "   # print(f'Getting page: {x}')\n",
    "    get_reviews(soup)\n",
    "   # print(len(reviewlist))\n",
    "    if not soup.find('li', {'class': 'a-disabled a-last'}):\n",
    "        pass\n",
    "    else:\n",
    "        break"
   ]
  },
  {
   "cell_type": "code",
   "execution_count": 46,
   "id": "d4ae23e3",
   "metadata": {},
   "outputs": [
    {
     "name": "stdout",
     "output_type": "stream",
     "text": [
      "Fin.\n"
     ]
    }
   ],
   "source": [
    "df2 = pd.DataFrame(reviewlist)\n",
    "df2.to_csv(r'realme.csv', index=False)\n",
    "print('Fin.')"
   ]
  },
  {
   "cell_type": "code",
   "execution_count": 47,
   "id": "85d8889b",
   "metadata": {},
   "outputs": [
    {
     "data": {
      "text/html": [
       "<div>\n",
       "<style scoped>\n",
       "    .dataframe tbody tr th:only-of-type {\n",
       "        vertical-align: middle;\n",
       "    }\n",
       "\n",
       "    .dataframe tbody tr th {\n",
       "        vertical-align: top;\n",
       "    }\n",
       "\n",
       "    .dataframe thead th {\n",
       "        text-align: right;\n",
       "    }\n",
       "</style>\n",
       "<table border=\"1\" class=\"dataframe\">\n",
       "  <thead>\n",
       "    <tr style=\"text-align: right;\">\n",
       "      <th></th>\n",
       "      <th>date</th>\n",
       "      <th>title</th>\n",
       "      <th>rating</th>\n",
       "      <th>body</th>\n",
       "    </tr>\n",
       "  </thead>\n",
       "  <tbody>\n",
       "    <tr>\n",
       "      <th>0</th>\n",
       "      <td>Reviewed in India on 1 April 2021</td>\n",
       "      <td>Good one but not worth the price tag</td>\n",
       "      <td>3.0</td>\n",
       "      <td>What I like most -1. Heart Beat Tracking - Exc...</td>\n",
       "    </tr>\n",
       "    <tr>\n",
       "      <th>1</th>\n",
       "      <td>Reviewed in India on 24 March 2021</td>\n",
       "      <td>REDUCULOUS</td>\n",
       "      <td>1.0</td>\n",
       "      <td>not proper working and touch pad is reduculas....</td>\n",
       "    </tr>\n",
       "    <tr>\n",
       "      <th>2</th>\n",
       "      <td>Reviewed in India on 26 April 2021</td>\n",
       "      <td>Thi product is very helpfuly.</td>\n",
       "      <td>4.0</td>\n",
       "      <td>This product is best.battery life 7-8days, hea...</td>\n",
       "    </tr>\n",
       "    <tr>\n",
       "      <th>3</th>\n",
       "      <td>Reviewed in India on 29 April 2021</td>\n",
       "      <td>Wrist band cause severe skin rashes</td>\n",
       "      <td>1.0</td>\n",
       "      <td>The watch is okay okay but the wrist band is p...</td>\n",
       "    </tr>\n",
       "    <tr>\n",
       "      <th>4</th>\n",
       "      <td>Reviewed in India on 17 April 2021</td>\n",
       "      <td>Waste of money and no return policy</td>\n",
       "      <td>1.0</td>\n",
       "      <td>Don't waste you money in buying this. It's ver...</td>\n",
       "    </tr>\n",
       "    <tr>\n",
       "      <th>...</th>\n",
       "      <td>...</td>\n",
       "      <td>...</td>\n",
       "      <td>...</td>\n",
       "      <td>...</td>\n",
       "    </tr>\n",
       "    <tr>\n",
       "      <th>9435</th>\n",
       "      <td>Reviewed in India on 19 April 2021</td>\n",
       "      <td>Great watch but not for fitness.</td>\n",
       "      <td>2.0</td>\n",
       "      <td>I bought this watch with extremely high expect...</td>\n",
       "    </tr>\n",
       "    <tr>\n",
       "      <th>9436</th>\n",
       "      <td>Reviewed in India on 9 June 2021</td>\n",
       "      <td>Stay away from realme watch s</td>\n",
       "      <td>1.0</td>\n",
       "      <td>It's just a fitness tracker with bigger dial w...</td>\n",
       "    </tr>\n",
       "    <tr>\n",
       "      <th>9437</th>\n",
       "      <td>Reviewed in India on 2 April 2021</td>\n",
       "      <td>Return pleases</td>\n",
       "      <td>5.0</td>\n",
       "      <td>Products was good per not useful sorry I am re...</td>\n",
       "    </tr>\n",
       "    <tr>\n",
       "      <th>9438</th>\n",
       "      <td>Reviewed in India on 1 June 2021</td>\n",
       "      <td>Buy for looks only</td>\n",
       "      <td>3.0</td>\n",
       "      <td>I posted same comment on realme community post...</td>\n",
       "    </tr>\n",
       "    <tr>\n",
       "      <th>9439</th>\n",
       "      <td>Reviewed in India on 2 May 2021</td>\n",
       "      <td>Display Whitish  Problem</td>\n",
       "      <td>1.0</td>\n",
       "      <td>Dear Realme &amp; Amazon,I bought  Realms watch on...</td>\n",
       "    </tr>\n",
       "  </tbody>\n",
       "</table>\n",
       "<p>9440 rows × 4 columns</p>\n",
       "</div>"
      ],
      "text/plain": [
       "                                    date  \\\n",
       "0      Reviewed in India on 1 April 2021   \n",
       "1     Reviewed in India on 24 March 2021   \n",
       "2     Reviewed in India on 26 April 2021   \n",
       "3     Reviewed in India on 29 April 2021   \n",
       "4     Reviewed in India on 17 April 2021   \n",
       "...                                  ...   \n",
       "9435  Reviewed in India on 19 April 2021   \n",
       "9436    Reviewed in India on 9 June 2021   \n",
       "9437   Reviewed in India on 2 April 2021   \n",
       "9438    Reviewed in India on 1 June 2021   \n",
       "9439     Reviewed in India on 2 May 2021   \n",
       "\n",
       "                                     title  rating  \\\n",
       "0     Good one but not worth the price tag     3.0   \n",
       "1                               REDUCULOUS     1.0   \n",
       "2            Thi product is very helpfuly.     4.0   \n",
       "3      Wrist band cause severe skin rashes     1.0   \n",
       "4      Waste of money and no return policy     1.0   \n",
       "...                                    ...     ...   \n",
       "9435      Great watch but not for fitness.     2.0   \n",
       "9436         Stay away from realme watch s     1.0   \n",
       "9437                        Return pleases     5.0   \n",
       "9438                    Buy for looks only     3.0   \n",
       "9439              Display Whitish  Problem     1.0   \n",
       "\n",
       "                                                   body  \n",
       "0     What I like most -1. Heart Beat Tracking - Exc...  \n",
       "1     not proper working and touch pad is reduculas....  \n",
       "2     This product is best.battery life 7-8days, hea...  \n",
       "3     The watch is okay okay but the wrist band is p...  \n",
       "4     Don't waste you money in buying this. It's ver...  \n",
       "...                                                 ...  \n",
       "9435  I bought this watch with extremely high expect...  \n",
       "9436  It's just a fitness tracker with bigger dial w...  \n",
       "9437  Products was good per not useful sorry I am re...  \n",
       "9438  I posted same comment on realme community post...  \n",
       "9439  Dear Realme & Amazon,I bought  Realms watch on...  \n",
       "\n",
       "[9440 rows x 4 columns]"
      ]
     },
     "execution_count": 47,
     "metadata": {},
     "output_type": "execute_result"
    }
   ],
   "source": [
    "df2"
   ]
  },
  {
   "cell_type": "code",
   "execution_count": null,
   "id": "0321910f",
   "metadata": {},
   "outputs": [],
   "source": []
  }
 ],
 "metadata": {
  "kernelspec": {
   "display_name": "Python 3 (ipykernel)",
   "language": "python",
   "name": "python3"
  },
  "language_info": {
   "codemirror_mode": {
    "name": "ipython",
    "version": 3
   },
   "file_extension": ".py",
   "mimetype": "text/x-python",
   "name": "python",
   "nbconvert_exporter": "python",
   "pygments_lexer": "ipython3",
   "version": "3.9.7"
  }
 },
 "nbformat": 4,
 "nbformat_minor": 5
}
